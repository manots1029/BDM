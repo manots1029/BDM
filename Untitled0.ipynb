{
  "nbformat": 4,
  "nbformat_minor": 0,
  "metadata": {
    "colab": {
      "provenance": [],
      "toc_visible": true,
      "authorship_tag": "ABX9TyNx3udg9zHZQkzgVDM+6tdw",
      "include_colab_link": true
    },
    "kernelspec": {
      "name": "python3",
      "display_name": "Python 3"
    },
    "language_info": {
      "name": "python"
    }
  },
  "cells": [
    {
      "cell_type": "markdown",
      "metadata": {
        "id": "view-in-github",
        "colab_type": "text"
      },
      "source": [
        "<a href=\"https://colab.research.google.com/github/mohd-nor/BDM/blob/main/Untitled0.ipynb\" target=\"_parent\"><img src=\"https://colab.research.google.com/assets/colab-badge.svg\" alt=\"Open In Colab\"/></a>"
      ]
    },
    {
      "cell_type": "code",
      "execution_count": null,
      "metadata": {
        "id": "nDg0vBc3QFIV"
      },
      "outputs": [],
      "source": []
    },
    {
      "cell_type": "markdown",
      "source": [
        "#Hello world\n",
        "## Hello world\n"
      ],
      "metadata": {
        "id": "ABTmJ7CrQLYX"
      }
    },
    {
      "cell_type": "markdown",
      "source": [
        "My Info\n"
      ],
      "metadata": {
        "id": "gKXhnS31QrhG"
      }
    },
    {
      "cell_type": "code",
      "source": [],
      "metadata": {
        "id": "rqnM5fshRI-r"
      },
      "execution_count": null,
      "outputs": []
    },
    {
      "cell_type": "markdown",
      "source": [],
      "metadata": {
        "id": "H_lkNJONQkBg"
      }
    },
    {
      "cell_type": "markdown",
      "source": [],
      "metadata": {
        "id": "2iWHGLAFRmMo"
      }
    }
  ]
}